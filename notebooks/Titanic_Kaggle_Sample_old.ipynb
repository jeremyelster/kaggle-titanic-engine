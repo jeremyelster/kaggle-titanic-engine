{
 "cells": [
  {
   "cell_type": "markdown",
   "metadata": {},
   "source": [
    "# Documentation"
   ]
  },
  {
   "cell_type": "markdown",
   "metadata": {},
   "source": [
    "# Sample"
   ]
  },
  {
   "cell_type": "code",
   "execution_count": 116,
   "metadata": {},
   "outputs": [],
   "source": [
    "import marvin_titanic_engine\n",
    "import os"
   ]
  },
  {
   "cell_type": "code",
   "execution_count": 117,
   "metadata": {},
   "outputs": [
    {
     "name": "stdout",
     "output_type": "stream",
     "text": [
      "/vagrant/projects/titanic-engine/notebooks\n"
     ]
    }
   ],
   "source": [
    "print(os.getcwd())"
   ]
  },
  {
   "cell_type": "code",
   "execution_count": 119,
   "metadata": {},
   "outputs": [],
   "source": [
    "#from marvin_python_toolbox.common.data import MarvinData\n",
    "import pandas as pd\n",
    "\n",
    "train_df = pd.read_csv(\n",
    "    '/vagrant/projects/titanic-engine/marvin_titanic_engine/data_files/train.csv'\n",
    ")\n",
    "test_df = pd.read_csv(\n",
    "    '/vagrant/projects/titanic-engine/marvin_titanic_engine/data_files/train.csv'\n",
    ")\n",
    "marvin_initial_dataset = {\n",
    "    'train': train_df,\n",
    "    'test': test_df\n",
    "}"
   ]
  },
  {
   "cell_type": "markdown",
   "metadata": {},
   "source": [
    "## Training Preparator"
   ]
  },
  {
   "cell_type": "code",
   "execution_count": 120,
   "metadata": {},
   "outputs": [
    {
     "name": "stdout",
     "output_type": "stream",
     "text": [
      "Length: 714\n"
     ]
    }
   ],
   "source": [
    "from sklearn.model_selection import StratifiedShuffleSplit, train_test_split, cross_val_score, GridSearchCV\n",
    "\n",
    "pred_cols = ['Age', 'Pclass', 'Sex']\n",
    "dep_var = 'Survived'\n",
    "train_no_na = marvin_initial_dataset['train'][\n",
    "    pred_cols + [dep_var]\n",
    "].dropna()\n",
    "print(\"Length: {}\".format(len(train_no_na)))\n",
    "\n",
    "# Feature Engineering\n",
    "data_X = train_no_na[pred_cols]\n",
    "data_X.loc[:, 'Sex'] = data_X['Sex'].map({'male': 1, 'female': 0})\n",
    "data_y = train_no_na[dep_var]\n",
    "\n",
    "# Prepare for Stratified Shuffle Split\n",
    "sss = StratifiedShuffleSplit(n_splits=5, test_size=.6, random_state=0)\n",
    "sss.get_n_splits(data_X, data_y)\n",
    "for train_index, test_index in sss.split(data_X, data_y):\n",
    "    X_train, X_test = data_X.iloc[train_index], data_X.iloc[test_index]\n",
    "    y_train, y_test = data_y.iloc[train_index], data_y.iloc[test_index]\n",
    "marvin_dataset = {\n",
    "    'X_train': X_train,\n",
    "    'y_train': y_train,\n",
    "    'X_test': X_test,\n",
    "    'y_test': y_test,\n",
    "    'sss': sss\n",
    "}\n"
   ]
  },
  {
   "cell_type": "markdown",
   "metadata": {},
   "source": [
    "## Trainer"
   ]
  },
  {
   "cell_type": "code",
   "execution_count": 121,
   "metadata": {},
   "outputs": [],
   "source": [
    "from sklearn import svm, neighbors, tree\n",
    "from sklearn.model_selection import StratifiedShuffleSplit, train_test_split, cross_val_score, GridSearchCV\n",
    "from sklearn.ensemble import RandomForestClassifier\n",
    "from sklearn.preprocessing import StandardScaler, scale\n",
    "from sklearn.linear_model import LogisticRegression\n",
    "\n",
    "\n",
    "# Set the parameter candidates\n",
    "parameter_candidates = [\n",
    "    {'C': [1, 10, 100], 'gamma': [0.01, 0.001], 'kernel': ['linear']},\n",
    "    {'C': [1, 10, 100], 'gamma': [0.01, 0.001], 'kernel': ['rbf']},\n",
    "]\n",
    "\n",
    "# Create a classifier with the parameter candidates\n",
    "svm_grid = GridSearchCV(estimator=svm.SVC(), param_grid=parameter_candidates, n_jobs=-1)\n",
    "\n",
    "# Train the classifier on training data\n",
    "svm_grid.fit(\n",
    "    marvin_dataset['X_train'],\n",
    "    marvin_dataset['y_train']\n",
    ")\n",
    "\n",
    "# use a full grid over all parameters\n",
    "parameter_candidates = {\n",
    "    \"max_depth\": [3, None],\n",
    "    \"random_state\": [0],\n",
    "    \"min_samples_split\": [2],  # , 3, 10],\n",
    "    \"min_samples_leaf\": [1],  # , 3, 10],\n",
    "    \"n_estimators\": [20],  # , 50],\n",
    "    \"bootstrap\": [True, False],\n",
    "    \"criterion\": [\"gini\", \"entropy\"]\n",
    "}\n",
    "\n",
    "#clf = RandomForestClassifier(n_estimators=20)\n",
    "\n",
    "# run grid search\n",
    "rf_grid = GridSearchCV(estimator=RandomForestClassifier(), param_grid=parameter_candidates)\n",
    "rf_grid.fit(\n",
    "    marvin_dataset['X_train'],\n",
    "    marvin_dataset['y_train']\n",
    ")\n",
    "\n",
    "marvin_model = {\n",
    "    'svm': svm_grid,\n",
    "    'rf': rf_grid\n",
    "}"
   ]
  },
  {
   "cell_type": "code",
   "execution_count": 122,
   "metadata": {},
   "outputs": [
    {
     "name": "stdout",
     "output_type": "stream",
     "text": [
      "Model Type: rf\n",
      "{'warm_start': False, 'oob_score': False, 'n_jobs': 1, 'verbose': 0, 'max_leaf_nodes': None, 'bootstrap': True, 'min_samples_leaf': 1, 'n_estimators': 20, 'min_samples_split': 2, 'min_weight_fraction_leaf': 0.0, 'criterion': 'gini', 'random_state': 0, 'min_impurity_split': 1e-07, 'max_features': 'auto', 'max_depth': None, 'class_weight': None}\n",
      "Accuracy Score: 0.7895%\n",
      "Classification Report:\n",
      "\n",
      "             precision    recall  f1-score   support\n",
      "\n",
      "          0       0.75      0.84      0.79       227\n",
      "          1       0.79      0.68      0.73       202\n",
      "\n",
      "avg / total       0.77      0.77      0.76       429\n",
      "\n",
      "Confusion Matrix:\n",
      "\n",
      "[[191  36]\n",
      " [ 64 138]]\n",
      "\n",
      "\n",
      "\n",
      "Model Type: svm\n",
      "{'kernel': 'rbf', 'C': 100, 'verbose': False, 'probability': False, 'degree': 3, 'shrinking': True, 'max_iter': -1, 'decision_function_shape': None, 'random_state': None, 'tol': 0.001, 'cache_size': 200, 'coef0': 0.0, 'gamma': 0.001, 'class_weight': None}\n",
      "Accuracy Score: 0.786%\n",
      "Classification Report:\n",
      "\n",
      "             precision    recall  f1-score   support\n",
      "\n",
      "          0       0.82      0.83      0.82       252\n",
      "          1       0.75      0.74      0.75       177\n",
      "\n",
      "avg / total       0.79      0.79      0.79       429\n",
      "\n",
      "Confusion Matrix:\n",
      "\n",
      "[[209  43]\n",
      " [ 46 131]]\n",
      "\n",
      "\n",
      "\n",
      "Feature ranking:\n",
      "1. feature Age (0.520082)\n",
      "2. feature Sex (0.310731)\n",
      "3. feature Pclass (0.169187)\n"
     ]
    },
    {
     "data": {
      "image/png": "[encoded data removed]",
      "text/plain": [
       "<matplotlib.figure.Figure at 0x7fe437995710>"
      ]
     },
     "metadata": {},
     "output_type": "display_data"
    }
   ],
   "source": [
    "from sklearn import metrics\n",
    "for model_type, fitted_model in marvin_model.iteritems():\n",
    "    print(\"Model Type: {0}\\n{1}\".format(model_type, fitted_model.best_estimator_.get_params()))\n",
    "    print(\"Accuracy Score: {}%\".format(round(fitted_model.best_score_,4)))\n",
    "    # Print the classification report of `y_test` and `predicted`\n",
    "    print(\"Classification Report:\\n\")\n",
    "    print(metrics.classification_report(fitted_model.predict(marvin_dataset['X_test']), marvin_dataset['y_test']))\n",
    "\n",
    "    # Print the confusion matrix\n",
    "    print(\"Confusion Matrix:\\n\")\n",
    "    print(metrics.confusion_matrix(fitted_model.predict(marvin_dataset['X_test']), marvin_dataset['y_test']))\n",
    "    print(\"\\n\\n\")\n",
    "\n",
    "import numpy as np\n",
    "import matplotlib.pyplot as plt\n",
    "%matplotlib inline\n",
    "#marvin_dataset['X_train']\n",
    "\n",
    "importances = rf_grid.best_estimator_.feature_importances_\n",
    "\n",
    "#std = np.std([rf_grid.best_estimator_.feature_importances_ for tree in rf_grid.estimators_],\n",
    "#             axis=0)\n",
    "indices = np.argsort(importances)[::-1]\n",
    "\n",
    "# Print the feature ranking\n",
    "print(\"Feature ranking:\")\n",
    "\n",
    "for f in range(marvin_dataset['X_train'].shape[1]):\n",
    "    print(\"%d. feature %s (%f)\" % (f + 1, pred_cols[indices[f]], importances[indices[f]]))\n",
    "\n",
    "# Plot the feature importances of the forest\n",
    "plt.figure(figsize=(10,5))\n",
    "plt.title(\"Feature importances\")\n",
    "plt.bar(range(X_train.shape[1]), importances[indices],\n",
    "       color=\"r\",  align=\"center\")\n",
    "stats_order = [pred_cols[x] for x in indices]\n",
    "plt.xticks(range(marvin_dataset['X_train'].shape[1]), stats_order, rotation='vertical')\n",
    "plt.xlim([-1, marvin_dataset['X_train'].shape[1]])\n",
    "plt.show()"
   ]
  },
  {
   "cell_type": "markdown",
   "metadata": {},
   "source": [
    "## Predictor"
   ]
  },
  {
   "cell_type": "code",
   "execution_count": 123,
   "metadata": {},
   "outputs": [
    {
     "data": {
      "text/plain": [
       "{'prediction1': 0, 'prediction2': 1}"
      ]
     },
     "execution_count": 123,
     "metadata": {},
     "output_type": "execute_result"
    }
   ],
   "source": [
    "# age, class, sex\n",
    "input_message = [[50, 3, 0]]\n",
    "\n",
    "\n",
    "final_result = {\n",
    "    \"prediction1\": marvin_model['rf'].predict(input_message)[0],\n",
    "    \"prediction2\": marvin_model['svm'].predict(input_message)[0]\n",
    "\n",
    "}\n",
    "\n",
    "final_result"
   ]
  },
  {
   "cell_type": "code",
   "execution_count": null,
   "metadata": {},
   "outputs": [],
   "source": []
  }
 ],
 "metadata": {
  "kernelspec": {
   "display_name": "Python 2",
   "language": "python",
   "name": "python2"
  },
  "language_info": {
   "codemirror_mode": {
    "name": "ipython",
    "version": 2
   },
   "file_extension": ".py",
   "mimetype": "text/x-python",
   "name": "python",
   "nbconvert_exporter": "python",
   "pygments_lexer": "ipython2",
   "version": "2.7.6"
  }
 },
 "nbformat": 4,
 "nbformat_minor": 1
}
